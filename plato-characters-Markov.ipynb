{
 "cells": [
  {
   "cell_type": "markdown",
   "metadata": {},
   "source": [
    "# A Socratic Dialogue Generator\n",
    "\n",
    "This generator analyzes speech from a Platonic dialogue in TEI XML, and generates that speech using Markov chains. Here's a demonstration, from _Phaedrus_. "
   ]
  },
  {
   "cell_type": "code",
   "execution_count": 99,
   "metadata": {
    "collapsed": false
   },
   "outputs": [
    {
     "data": {
      "text/markdown": [
       "\n",
       "**Socrates**: "
      ],
      "text/plain": [
       "<IPython.core.display.Markdown object>"
      ]
     },
     "metadata": {},
     "output_type": "display_data"
    },
    {
     "data": {
      "text/markdown": [
       " But undertakes to try to escape detection than to the young yet, that in a musician would be more powerful nature? Do, reproaches him of those say at whatever point and beautiful has knowledge of my foot."
      ],
      "text/plain": [
       "<IPython.core.display.Markdown object>"
      ]
     },
     "metadata": {},
     "output_type": "display_data"
    },
    {
     "data": {
      "text/markdown": [
       "\n",
       "**Phaedrus**: "
      ],
      "text/plain": [
       "<IPython.core.display.Markdown object>"
      ]
     },
     "metadata": {},
     "output_type": "display_data"
    },
    {
     "data": {
      "text/markdown": [
       " Yes, unless you say who pretend to walk on you really had stumbled upon some similar inventions of which he has been said?"
      ],
      "text/plain": [
       "<IPython.core.display.Markdown object>"
      ]
     },
     "metadata": {},
     "output_type": "display_data"
    },
    {
     "data": {
      "text/markdown": [
       "\n",
       "**Socrates**: "
      ],
      "text/plain": [
       "<IPython.core.display.Markdown object>"
      ]
     },
     "metadata": {},
     "output_type": "display_data"
    },
    {
     "data": {
      "text/markdown": [
       " Oh, before we not happen even the light, but I know very well to the mind of painting; but to bear fruit, but to which is in the ancients; and all the passion of division is a superhuman wonder as soon as our friend, and if you purposely exposed me."
      ],
      "text/plain": [
       "<IPython.core.display.Markdown object>"
      ]
     },
     "metadata": {},
     "output_type": "display_data"
    },
    {
     "data": {
      "text/markdown": [
       "\n",
       "**Phaedrus**: "
      ],
      "text/plain": [
       "<IPython.core.display.Markdown object>"
      ]
     },
     "metadata": {},
     "output_type": "display_data"
    },
    {
     "data": {
      "text/markdown": [
       " So as you easily make up at Epicrates' house, Socrates, and my walk along the Well."
      ],
      "text/plain": [
       "<IPython.core.display.Markdown object>"
      ]
     },
     "metadata": {},
     "output_type": "display_data"
    }
   ],
   "source": [
    "Dialogue('phaedrus.xml', 'Socrates', 'Phaedrus').generate(4)"
   ]
  },
  {
   "cell_type": "code",
   "execution_count": 95,
   "metadata": {
    "collapsed": false
   },
   "outputs": [],
   "source": [
    "# Library for parsing XML\n",
    "from lxml import etree\n",
    "\n",
    "# We'll mostly use NLTK for tokenizing. \n",
    "import nltk\n",
    "\n",
    "# Randomly choose things. \n",
    "from random import choice as pick\n",
    "\n",
    "# Display things nicely. \n",
    "from IPython.display import display, Markdown"
   ]
  },
  {
   "cell_type": "code",
   "execution_count": 96,
   "metadata": {
    "collapsed": false
   },
   "outputs": [],
   "source": [
    "class Character(): \n",
    "    \"\"\"\n",
    "    This class analyzes and generates character-level speech. \n",
    "    \"\"\"\n",
    "    def __init__(self, tree, name):\n",
    "        \"\"\"\n",
    "        Gets a character's speech from the TEI XML, and breaks it up\n",
    "        by utterance, sentence, and word.\n",
    "        \"\"\"\n",
    "        self.name = name\n",
    "        # Get dialogue by speaker from the TEI. \n",
    "        self.xpath = \".//sp[speaker='%s']/p\" % name\n",
    "        self.element = tree.findall(self.xpath) \n",
    "        if len(self.element) == 0: \n",
    "            # Something's wrong. Let's try the other format. \n",
    "            self.xpath = \".//said[@who='#%s']\" % name\n",
    "            self.element = tree.findall(self.xpath)\n",
    "        if len(self.element) == 0: \n",
    "            raise Exception(\"Can't find any dialog!\")\n",
    "        self.lines = [line.text for line in self.element]\n",
    "        self.lineWords = [nltk.word_tokenize(line) for line in self.lines]\n",
    "        self.lineLens = [len(line) for line in self.lineWords]\n",
    "        self.text = '\\n'.join(self.lines)\n",
    "        self.sents = nltk.sent_tokenize(self.text)\n",
    "        # This seems weird, but it's the required format for the readability module\n",
    "        self.sentWords = [nltk.word_tokenize(sent) for sent in self.sents]\n",
    "        self.words = [w for w in nltk.word_tokenize(self.text)]\n",
    "        self.wordsLower = [w.lower() for w in nltk.word_tokenize(self.text)]\n",
    "        self.uniquewords = list(set(self.words)) \n",
    "        self.firstWords = [s[0] for s in self.sentWords]\n",
    "        self.makeProbs()\n",
    "        \n",
    "    def makeProbs(self): \n",
    "        \"\"\" \n",
    "        Makes a list of words and the words that follow those words.\n",
    "        Some words are actually punctuation marks. \n",
    "        \"\"\"\n",
    "        table = {}\n",
    "        for word in self.uniquewords:\n",
    "            lword = word.lower()\n",
    "            idxs = [i for i, val in enumerate(self.wordsLower) if val==lword]\n",
    "            for idx in idxs: \n",
    "                # Make sure we don't fall off the edge of the list. \n",
    "                if idx+1 < len(self.wordsLower): \n",
    "                    nextWord = self.words[idx+1]\n",
    "                    if lword not in table: \n",
    "                        table[word.lower()] = [nextWord]\n",
    "                    else: \n",
    "                        table[lword].append(nextWord)\n",
    "        self.probs = table\n",
    "        \n",
    "    def chain(self, n): \n",
    "        \"\"\"\n",
    "        Chains together words according to the \"probs\" dictionary.\n",
    "        \"\"\"\n",
    "        chain = [] \n",
    "        # Pick first word\n",
    "        word = pick(self.firstWords)\n",
    "        chain.append(word)\n",
    "        # Now get a bunch of subsequent words.\n",
    "        for i in range(n): \n",
    "            nextWord = pick(self.probs[word.lower()])\n",
    "            chain.append(nextWord)\n",
    "            word = nextWord\n",
    "        # Keep going until the end of the sentence. \n",
    "        while chain[-1] not in ['?', '.', '!']: \n",
    "            nextWord = pick(self.probs[word.lower()])\n",
    "            chain.append(nextWord)\n",
    "            word = nextWord\n",
    "        chain = self.untokenize(chain)\n",
    "        display(Markdown(chain))\n",
    "\n",
    "    def untokenize(self, chain): \n",
    "        \"\"\"\n",
    "        Stitches sentences back together. \n",
    "        \"\"\"\n",
    "        out = \"\"\n",
    "        for word in chain: \n",
    "            # Handle words that aren't totally alphabetical\n",
    "            if word in [\"(\", \")\"]: \n",
    "                # Just skip parentheses, since they hardly end up\n",
    "                # closing. \n",
    "                continue\n",
    "            if word.isalpha() or word[0] == \"“\": \n",
    "                out = out + ' ' + word\n",
    "            else: \n",
    "                out = out + word\n",
    "        return out"
   ]
  },
  {
   "cell_type": "code",
   "execution_count": 97,
   "metadata": {
    "collapsed": true
   },
   "outputs": [],
   "source": [
    "class Dialogue():\n",
    "    \"\"\"\n",
    "    This class analyzes and generates dialogue-level speech. \n",
    "    It chooses an amount of text that is appropriate for the character,\n",
    "    given the amount \n",
    "    \n",
    "    \"\"\"\n",
    "    def __init__(self, filename, char1, char2): \n",
    "        tree = etree.parse(filename)\n",
    "        self.c1 = Character(tree, char1)\n",
    "        self.c2 = Character(tree, char2) \n",
    "\n",
    "    def generate(self, n):\n",
    "        for i in range(n//2):\n",
    "            for char in [self.c1, self.c2]: \n",
    "                self.makeDialogue(n, char)\n",
    "\n",
    "    def makeDialogue(self, n, c): \n",
    "        display(Markdown('\\n**' + c.name + \"**: \"))\n",
    "        lineLen = pick(c.lineLens)\n",
    "        c.chain(lineLen)"
   ]
  },
  {
   "cell_type": "code",
   "execution_count": 99,
   "metadata": {
    "collapsed": false
   },
   "outputs": [
    {
     "data": {
      "text/markdown": [
       "\n",
       "**Socrates**: "
      ],
      "text/plain": [
       "<IPython.core.display.Markdown object>"
      ]
     },
     "metadata": {},
     "output_type": "display_data"
    },
    {
     "data": {
      "text/markdown": [
       " But undertakes to try to escape detection than to the young yet, that in a musician would be more powerful nature? Do, reproaches him of those say at whatever point and beautiful has knowledge of my foot."
      ],
      "text/plain": [
       "<IPython.core.display.Markdown object>"
      ]
     },
     "metadata": {},
     "output_type": "display_data"
    },
    {
     "data": {
      "text/markdown": [
       "\n",
       "**Phaedrus**: "
      ],
      "text/plain": [
       "<IPython.core.display.Markdown object>"
      ]
     },
     "metadata": {},
     "output_type": "display_data"
    },
    {
     "data": {
      "text/markdown": [
       " Yes, unless you say who pretend to walk on you really had stumbled upon some similar inventions of which he has been said?"
      ],
      "text/plain": [
       "<IPython.core.display.Markdown object>"
      ]
     },
     "metadata": {},
     "output_type": "display_data"
    },
    {
     "data": {
      "text/markdown": [
       "\n",
       "**Socrates**: "
      ],
      "text/plain": [
       "<IPython.core.display.Markdown object>"
      ]
     },
     "metadata": {},
     "output_type": "display_data"
    },
    {
     "data": {
      "text/markdown": [
       " Oh, before we not happen even the light, but I know very well to the mind of painting; but to bear fruit, but to which is in the ancients; and all the passion of division is a superhuman wonder as soon as our friend, and if you purposely exposed me."
      ],
      "text/plain": [
       "<IPython.core.display.Markdown object>"
      ]
     },
     "metadata": {},
     "output_type": "display_data"
    },
    {
     "data": {
      "text/markdown": [
       "\n",
       "**Phaedrus**: "
      ],
      "text/plain": [
       "<IPython.core.display.Markdown object>"
      ]
     },
     "metadata": {},
     "output_type": "display_data"
    },
    {
     "data": {
      "text/markdown": [
       " So as you easily make up at Epicrates' house, Socrates, and my walk along the Well."
      ],
      "text/plain": [
       "<IPython.core.display.Markdown object>"
      ]
     },
     "metadata": {},
     "output_type": "display_data"
    }
   ],
   "source": [
    "Dialogue('phaedrus.xml', 'Socrates', 'Phaedrus').generate(4)"
   ]
  },
  {
   "cell_type": "code",
   "execution_count": 98,
   "metadata": {
    "collapsed": false
   },
   "outputs": [
    {
     "data": {
      "text/markdown": [
       "\n",
       "**Socrates**: "
      ],
      "text/plain": [
       "<IPython.core.display.Markdown object>"
      ]
     },
     "metadata": {},
     "output_type": "display_data"
    },
    {
     "data": {
      "text/markdown": [
       " For your prelude; in gymnastic, is of words our proposals? And live together among themselves stern in requital for all the class which is competent for this in case anyone from those whose duty it seems, they were to see added? And Hermocrates, we said, seeing that we said, my dear Timaeus!"
      ],
      "text/plain": [
       "<IPython.core.display.Markdown object>"
      ]
     },
     "metadata": {},
     "output_type": "display_data"
    },
    {
     "data": {
      "text/markdown": [
       "\n",
       "**Timaeus**: "
      ],
      "text/plain": [
       "<IPython.core.display.Markdown object>"
      ]
     },
     "metadata": {},
     "output_type": "display_data"
    },
    {
     "data": {
      "text/markdown": [
       " That they were a change of fire or rather than a division within soul and ministers to experience with soul be taken that in that it is the Recipient to declare that One single sensation; but it uselessly, or the truth, for this. For whom the unintelligent, by his own structure the Other is termed “the sacreddisease.” boils up the Errant Cause of its own proper position. and the substance from the present life by us to attain becoming a result of corn fall in its own experiences which indicates that, and some Cause them food, so that were sufficient for out of the matrix or in the whole of pain."
      ],
      "text/plain": [
       "<IPython.core.display.Markdown object>"
      ]
     },
     "metadata": {},
     "output_type": "display_data"
    },
    {
     "data": {
      "text/markdown": [
       "\n",
       "**Socrates**: "
      ],
      "text/plain": [
       "<IPython.core.display.Markdown object>"
      ]
     },
     "metadata": {},
     "output_type": "display_data"
    },
    {
     "data": {
      "text/markdown": [
       " And children and grandparents, and sisters, both the very feeling is a most willingly, so here, and the polity I in gymnastic, indeed, and may we said that they would I, and good were willing, therefore, and do you most cordially accepted your prelude; not begin by this?"
      ],
      "text/plain": [
       "<IPython.core.display.Markdown object>"
      ]
     },
     "metadata": {},
     "output_type": "display_data"
    },
    {
     "data": {
      "text/markdown": [
       "\n",
       "**Timaeus**: "
      ],
      "text/plain": [
       "<IPython.core.display.Markdown object>"
      ]
     },
     "metadata": {},
     "output_type": "display_data"
    },
    {
     "data": {
      "text/markdown": [
       " And as to necessary, being produced. For the bright and the vision, but now at one firestream is thus we previously described. The quicker but formerly the whole kind of the most fair and keen and of their nature allows, since it onlyhalf-solid is thus allowing their principles. Therefore let down into flesh also was porous body; and which passes the same and to judge are most part of another the inner fire and a disease of the mortal things that which is that it is to try to the Same and boundary for, become, and with hair, those who works very firmly based on the term we should allow any other Kinds should ever uniformly existent; for these maladies previously drew since no envy He had been constructed as follows."
      ],
      "text/plain": [
       "<IPython.core.display.Markdown object>"
      ]
     },
     "metadata": {},
     "output_type": "display_data"
    }
   ],
   "source": [
    "Dialogue('timaeus.xml', 'Socrates', 'Timaeus').generate(4)"
   ]
  }
 ],
 "metadata": {
  "kernelspec": {
   "display_name": "Python 3",
   "language": "python",
   "name": "python3"
  },
  "language_info": {
   "codemirror_mode": {
    "name": "ipython",
    "version": 3
   },
   "file_extension": ".py",
   "mimetype": "text/x-python",
   "name": "python",
   "nbconvert_exporter": "python",
   "pygments_lexer": "ipython3",
   "version": "3.5.2"
  }
 },
 "nbformat": 4,
 "nbformat_minor": 0
}
