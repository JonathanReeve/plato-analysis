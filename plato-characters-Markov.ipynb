{
 "cells": [
  {
   "cell_type": "markdown",
   "metadata": {},
   "source": [
    "# A Socratic Dialogue Generator\n",
    "\n",
    "This generator analyzes speech from a Platonic dialogue in TEI XML, and generates that speech using Markov chains. Scroll to the bottom to see it in action. "
   ]
  },
  {
   "cell_type": "code",
   "execution_count": 95,
   "metadata": {
    "collapsed": false
   },
   "outputs": [],
   "source": [
    "# Library for parsing XML\n",
    "from lxml import etree\n",
    "\n",
    "# We'll mostly use NLTK for tokenizing. \n",
    "import nltk\n",
    "\n",
    "# Randomly choose things. \n",
    "from random import choice as pick\n",
    "\n",
    "# Display things nicely. \n",
    "from IPython.display import display, Markdown"
   ]
  },
  {
   "cell_type": "code",
   "execution_count": 106,
   "metadata": {
    "collapsed": false
   },
   "outputs": [],
   "source": [
    "class Character(): \n",
    "    \"\"\"\n",
    "    This class analyzes and generates character-level speech. \n",
    "    \"\"\"\n",
    "    def __init__(self, tree, name):\n",
    "        \"\"\"\n",
    "        Gets a character's speech from the TEI XML, and breaks it up\n",
    "        by utterance, sentence, and word.\n",
    "        \"\"\"\n",
    "        self.name = name\n",
    "        # Get dialogue by speaker from the TEI. \n",
    "        self.xpath = \".//sp[speaker='%s']/p\" % name\n",
    "        self.element = tree.findall(self.xpath) \n",
    "        if len(self.element) == 0: \n",
    "            # Something's wrong. Let's try the other format. \n",
    "            self.xpath = \".//said[@who='#%s']\" % name\n",
    "            self.element = tree.findall(self.xpath)\n",
    "        if len(self.element) == 0: \n",
    "            raise Exception(\"Can't find any dialog!\")\n",
    "        self.lines = [line.text for line in self.element]\n",
    "        self.lineWords = [nltk.word_tokenize(line) for line in self.lines]\n",
    "        self.lineLens = [len(line) for line in self.lineWords]\n",
    "        self.text = '\\n'.join(self.lines)\n",
    "        self.sents = nltk.sent_tokenize(self.text)\n",
    "        # This seems weird, but it's the required format for the readability module\n",
    "        self.sentWords = [nltk.word_tokenize(sent) for sent in self.sents]\n",
    "        self.words = [w for w in nltk.word_tokenize(self.text)]\n",
    "        self.wordsLower = [w.lower() for w in nltk.word_tokenize(self.text)]\n",
    "        self.uniquewords = list(set(self.words)) \n",
    "        self.firstWords = [s[0] for s in self.sentWords]\n",
    "        self.makeProbs()\n",
    "        \n",
    "    def makeProbs(self): \n",
    "        \"\"\" \n",
    "        Makes a list of words and the words that follow those words.\n",
    "        Some words are actually punctuation marks. \n",
    "        \"\"\"\n",
    "        table = {}\n",
    "        for word in self.uniquewords:\n",
    "            lword = word.lower()\n",
    "            idxs = [i for i, val in enumerate(self.wordsLower) if val==lword]\n",
    "            for idx in idxs: \n",
    "                # Make sure we don't fall off the edge of the list. \n",
    "                if idx+1 < len(self.wordsLower): \n",
    "                    nextWord = self.words[idx+1]\n",
    "                    if lword not in table: \n",
    "                        table[word.lower()] = [nextWord]\n",
    "                    else: \n",
    "                        table[lword].append(nextWord)\n",
    "        self.probs = table\n",
    "        \n",
    "    def chain(self, n): \n",
    "        \"\"\"\n",
    "        Chains together words according to the \"probs\" dictionary.\n",
    "        \"\"\"\n",
    "        chain = [] \n",
    "        # Pick first word\n",
    "        word = pick(self.firstWords)\n",
    "        chain.append(word)\n",
    "        # Now get a bunch of subsequent words.\n",
    "        for i in range(n): \n",
    "            nextWord = pick(self.probs[word.lower()])\n",
    "            chain.append(nextWord)\n",
    "            word = nextWord\n",
    "        # Keep going until the end of the sentence. \n",
    "        while chain[-1] not in ['?', '.', '!']: \n",
    "            nextWord = pick(self.probs[word.lower()])\n",
    "            chain.append(nextWord)\n",
    "            word = nextWord\n",
    "        chain = self.untokenize(chain)\n",
    "        display(Markdown(chain))\n",
    "\n",
    "    def untokenize(self, chain): \n",
    "        \"\"\"\n",
    "        Stitches sentences back together. \n",
    "        \"\"\"\n",
    "        out = \"\"\n",
    "        for word in chain: \n",
    "            # Handle words that aren't totally alphabetical\n",
    "            if word in [\"(\", \")\"]: \n",
    "                # Just skip parentheses, since they hardly end up\n",
    "                # closing. \n",
    "                continue\n",
    "            if word[0].isalpha() or word[0] == \"“\" or word[0].isdigit(): \n",
    "                out = out + ' ' + word\n",
    "            else: \n",
    "                out = out + word\n",
    "        return out"
   ]
  },
  {
   "cell_type": "code",
   "execution_count": 107,
   "metadata": {
    "collapsed": true
   },
   "outputs": [],
   "source": [
    "class Dialogue():\n",
    "    \"\"\"\n",
    "    This class analyzes and generates dialogue-level speech. \n",
    "    It chooses an amount of text that is appropriate for the character,\n",
    "    given the amount \n",
    "    \n",
    "    \"\"\"\n",
    "    def __init__(self, filename, char1, char2): \n",
    "        tree = etree.parse(filename)\n",
    "        self.c1 = Character(tree, char1)\n",
    "        self.c2 = Character(tree, char2) \n",
    "\n",
    "    def generate(self, n):\n",
    "        for i in range(n//2):\n",
    "            for char in [self.c1, self.c2]: \n",
    "                self.makeDialogue(n, char)\n",
    "\n",
    "    def makeDialogue(self, n, c): \n",
    "        display(Markdown('\\n**' + c.name + \"**: \"))\n",
    "        lineLen = pick(c.lineLens)\n",
    "        c.chain(lineLen)"
   ]
  },
  {
   "cell_type": "code",
   "execution_count": 108,
   "metadata": {
    "collapsed": false
   },
   "outputs": [
    {
     "data": {
      "text/markdown": [
       "\n",
       "**Socrates**: "
      ],
      "text/plain": [
       "<IPython.core.display.Markdown object>"
      ]
     },
     "metadata": {},
     "output_type": "display_data"
    },
    {
     "data": {
      "text/markdown": [
       " Perhaps must be silent. On your friend. Why he met a pen with intelligence, Phaedrus, will, Then he was in this, and bounds."
      ],
      "text/plain": [
       "<IPython.core.display.Markdown object>"
      ]
     },
     "metadata": {},
     "output_type": "display_data"
    },
    {
     "data": {
      "text/markdown": [
       "\n",
       "**Phaedrus**: "
      ],
      "text/plain": [
       "<IPython.core.display.Markdown object>"
      ]
     },
     "metadata": {},
     "output_type": "display_data"
    },
    {
     "data": {
      "text/markdown": [
       " You say; for us stay and where have said just so it is shade there and leave writings behind them, according to cause to my walk along and will go along and pure and clear that he ought to it."
      ],
      "text/plain": [
       "<IPython.core.display.Markdown object>"
      ]
     },
     "metadata": {},
     "output_type": "display_data"
    },
    {
     "data": {
      "text/markdown": [
       "\n",
       "**Socrates**: "
      ],
      "text/plain": [
       "<IPython.core.display.Markdown object>"
      ]
     },
     "metadata": {},
     "output_type": "display_data"
    },
    {
     "data": {
      "text/markdown": [
       " Yes, this that he will never will listen to be unacquainted with the thing Read, Phaedrus, my boy, what of procedure would write, one can not at any appreciable knowledge of discourse because they not the souls and before whom you for it seems, I; for this order?"
      ],
      "text/plain": [
       "<IPython.core.display.Markdown object>"
      ]
     },
     "metadata": {},
     "output_type": "display_data"
    },
    {
     "data": {
      "text/markdown": [
       "\n",
       "**Phaedrus**: "
      ],
      "text/plain": [
       "<IPython.core.display.Markdown object>"
      ]
     },
     "metadata": {},
     "output_type": "display_data"
    },
    {
     "data": {
      "text/markdown": [
       " Certainly. They also, the Olympieum."
      ],
      "text/plain": [
       "<IPython.core.display.Markdown object>"
      ]
     },
     "metadata": {},
     "output_type": "display_data"
    }
   ],
   "source": [
    "Dialogue('texts/phaedrus.xml', 'Socrates', 'Phaedrus').generate(4)"
   ]
  },
  {
   "cell_type": "code",
   "execution_count": 109,
   "metadata": {
    "collapsed": false
   },
   "outputs": [
    {
     "data": {
      "text/markdown": [
       "\n",
       "**Socrates**: "
      ],
      "text/plain": [
       "<IPython.core.display.Markdown object>"
      ]
     },
     "metadata": {},
     "output_type": "display_data"
    },
    {
     "data": {
      "text/markdown": [
       " Bounteous and has no one proper and all should go about the soul of the imitative and into the best of its own inability of words; and deed. You requested me yesterday, ready for the extent and children all the allotment to treat their wage in many fine discourses of yesterday, and still harder in dealing with the same opinion about to behold them and our State, to do you have formed the fourth Then, from without or was this city and female, what my feeling is requisite in this city and certainly we discover other pursuits."
      ],
      "text/plain": [
       "<IPython.core.display.Markdown object>"
      ]
     },
     "metadata": {},
     "output_type": "display_data"
    },
    {
     "data": {
      "text/markdown": [
       "\n",
       "**Timaeus**: "
      ],
      "text/plain": [
       "<IPython.core.display.Markdown object>"
      ]
     },
     "metadata": {},
     "output_type": "display_data"
    },
    {
     "data": {
      "text/markdown": [
       " And the Four in this one Universe to be that exist within itself around it separated off; whereas every object which is to the work He assigned unto it has its nature is the splendid hospitality we might be so far as it being detergent in a man of prophets upon by straying all, so likewise we have now if in conjunction therewith, moreover,' supported thereon it smooth with dense composition than Him, and surrounded by any one kind contracts, was not encircled by condensation, and her announcement, his right, causes it fire, and it is congealed by the following."
      ],
      "text/plain": [
       "<IPython.core.display.Markdown object>"
      ]
     },
     "metadata": {},
     "output_type": "display_data"
    },
    {
     "data": {
      "text/markdown": [
       "\n",
       "**Socrates**: "
      ],
      "text/plain": [
       "<IPython.core.display.Markdown object>"
      ]
     },
     "metadata": {},
     "output_type": "display_data"
    },
    {
     "data": {
      "text/markdown": [
       " And exhibiting all the present as are a suitable war and sisters, by dividing off the qualities of you and sisters, in order that they would I gratified you requested me back again, in festal garb, that those of mine there any point omitted, three, shares the deserving amongst them back again, following Solons report, seeing that as children all men?"
      ],
      "text/plain": [
       "<IPython.core.display.Markdown object>"
      ]
     },
     "metadata": {},
     "output_type": "display_data"
    },
    {
     "data": {
      "text/markdown": [
       "\n",
       "**Timaeus**: "
      ],
      "text/plain": [
       "<IPython.core.display.Markdown object>"
      ]
     },
     "metadata": {},
     "output_type": "display_data"
    },
    {
     "data": {
      "text/markdown": [
       " Every disease of an excess; just as long as a different kind of fire or any of corn fall short thereof; which is defeated and the navel, which passes out gladly; for smallness; while if, unto it disperses them center, in the form that creature, to discern by all actions and all creatures, because it were of the rapidity of shellfish and extended far away by the nature is of the food and, like, like those last term becomes cooled again, and the necessary demonstration; “was” or investigation, partly to form the series of you will theirs to Nature thereof which exists between the last mentioned; but the “living creature.” Whenever he thought, one and dissolution, sometimes of the begetters more free will never one sole and their own new air, desire mingled with it receives its body, but formerly the head and the causes the art of the light in due to this part of Time."
      ],
      "text/plain": [
       "<IPython.core.display.Markdown object>"
      ]
     },
     "metadata": {},
     "output_type": "display_data"
    }
   ],
   "source": [
    "Dialogue('texts/timaeus.xml', 'Socrates', 'Timaeus').generate(4)"
   ]
  },
  {
   "cell_type": "code",
   "execution_count": null,
   "metadata": {
    "collapsed": true
   },
   "outputs": [],
   "source": []
  }
 ],
 "metadata": {
  "kernelspec": {
   "display_name": "Python 3",
   "language": "python",
   "name": "python3"
  },
  "language_info": {
   "codemirror_mode": {
    "name": "ipython",
    "version": 3
   },
   "file_extension": ".py",
   "mimetype": "text/x-python",
   "name": "python",
   "nbconvert_exporter": "python",
   "pygments_lexer": "ipython3",
   "version": "3.5.2"
  }
 },
 "nbformat": 4,
 "nbformat_minor": 0
}
